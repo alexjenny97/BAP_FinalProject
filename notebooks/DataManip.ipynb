{
 "cells": [
  {
   "cell_type": "code",
   "execution_count": 1,
   "metadata": {},
   "outputs": [],
   "source": [
    "import pandas as pd\n",
    "import seaborn as sns\n",
    "import numpy as np\n",
    "import matplotlib.pyplot as plt\n",
    "%matplotlib inline\n",
    "import pprint\n",
    "\n",
    "import warnings\n",
    "warnings.filterwarnings(\"ignore\")"
   ]
  },
  {
   "cell_type": "code",
   "execution_count": 2,
   "metadata": {},
   "outputs": [],
   "source": [
    "df = pd.read_csv('loan.csv') #save data to a pandas dataframe"
   ]
  },
  {
   "cell_type": "code",
   "execution_count": 3,
   "metadata": {},
   "outputs": [
    {
     "data": {
      "text/plain": [
       "Index(['id', 'member_id', 'loan_amnt', 'funded_amnt', 'funded_amnt_inv',\n",
       "       'term', 'int_rate', 'installment', 'grade', 'sub_grade', 'emp_title',\n",
       "       'emp_length', 'home_ownership', 'annual_inc', 'verification_status',\n",
       "       'issue_d', 'loan_status', 'pymnt_plan', 'url', 'desc', 'purpose',\n",
       "       'title', 'zip_code', 'addr_state', 'dti', 'delinq_2yrs',\n",
       "       'earliest_cr_line', 'inq_last_6mths', 'mths_since_last_delinq',\n",
       "       'mths_since_last_record', 'open_acc', 'pub_rec', 'revol_bal',\n",
       "       'revol_util', 'total_acc', 'initial_list_status', 'out_prncp',\n",
       "       'out_prncp_inv', 'total_pymnt', 'total_pymnt_inv', 'total_rec_prncp',\n",
       "       'total_rec_int', 'total_rec_late_fee', 'recoveries',\n",
       "       'collection_recovery_fee', 'last_pymnt_d', 'last_pymnt_amnt',\n",
       "       'next_pymnt_d', 'last_credit_pull_d', 'collections_12_mths_ex_med',\n",
       "       'mths_since_last_major_derog', 'policy_code', 'application_type',\n",
       "       'annual_inc_joint', 'dti_joint', 'verification_status_joint',\n",
       "       'acc_now_delinq', 'tot_coll_amt', 'tot_cur_bal', 'open_acc_6m',\n",
       "       'open_il_6m', 'open_il_12m', 'open_il_24m', 'mths_since_rcnt_il',\n",
       "       'total_bal_il', 'il_util', 'open_rv_12m', 'open_rv_24m', 'max_bal_bc',\n",
       "       'all_util', 'total_rev_hi_lim', 'inq_fi', 'total_cu_tl',\n",
       "       'inq_last_12m'],\n",
       "      dtype='object')"
      ]
     },
     "execution_count": 3,
     "metadata": {},
     "output_type": "execute_result"
    }
   ],
   "source": [
    "df.columns"
   ]
  },
  {
   "cell_type": "markdown",
   "metadata": {},
   "source": [
    "# This chunk gets the data used for the proposal"
   ]
  },
  {
   "cell_type": "code",
   "execution_count": 4,
   "metadata": {},
   "outputs": [
    {
     "data": {
      "text/plain": [
       "1755.2010184318683"
      ]
     },
     "execution_count": 4,
     "metadata": {},
     "output_type": "execute_result"
    }
   ],
   "source": [
    "usefulColumns = ['total']\n",
    "bankIncomeColumns = ['recoveries', 'collection_recovery_fee', ]\n",
    "\n",
    "#we have loan amount and total payment, maybe use these\n",
    "# benefit of lending a loan for the bank = avg interest paid (total_rec_int) + avg late payments recived (tatal_rec_late_fee)\n",
    "benies = df['total_rec_int'].mean() + df['total_rec_late_fee'].mean()\n",
    "benies"
   ]
  },
  {
   "cell_type": "code",
   "execution_count": 5,
   "metadata": {},
   "outputs": [
    {
     "data": {
      "text/plain": [
       "7155.399435454788"
      ]
     },
     "execution_count": 5,
     "metadata": {},
     "output_type": "execute_result"
    }
   ],
   "source": [
    "# cost of defaulting on a loan = avg loan amount (loan_amnt)\n",
    "    #- avg recoveries (recoveries) + avg collection recovery fee (collection_recovery_fee)\n",
    "d = (df['loan_amnt'] - df['total_pymnt'])\n",
    "defaultCost = d.mean() - df['recoveries'].mean() + df['collection_recovery_fee'].mean()\n",
    "defaultCost"
   ]
  },
  {
   "cell_type": "markdown",
   "metadata": {},
   "source": [
    "# Cost Matrix"
   ]
  },
  {
   "cell_type": "code",
   "execution_count": 6,
   "metadata": {},
   "outputs": [],
   "source": [
    "\n",
    "#                  predicted default           predicted paid\n",
    "# real default     0                           14714\n",
    "#\n",
    "# real paid        1755                        -1755\n",
    "# wrong = 1755 + 14,714 = 16,469\n",
    "# correct = - 1755"
   ]
  },
  {
   "cell_type": "markdown",
   "metadata": {},
   "source": [
    "# This chunk will clean the data into clean_loan.csv"
   ]
  },
  {
   "cell_type": "code",
   "execution_count": 7,
   "metadata": {},
   "outputs": [
    {
     "data": {
      "text/plain": [
       "0          1077501\n",
       "1          1077430\n",
       "2          1077175\n",
       "3          1076863\n",
       "4          1075358\n",
       "            ...   \n",
       "887374    36371250\n",
       "887375    36441262\n",
       "887376    36271333\n",
       "887377    36490806\n",
       "887378    36271262\n",
       "Name: id, Length: 887379, dtype: int64"
      ]
     },
     "execution_count": 7,
     "metadata": {},
     "output_type": "execute_result"
    }
   ],
   "source": [
    "df['id']"
   ]
  },
  {
   "cell_type": "code",
   "execution_count": 8,
   "metadata": {},
   "outputs": [
    {
     "name": "stdout",
     "output_type": "stream",
     "text": [
      "887379\n"
     ]
    },
    {
     "data": {
      "text/plain": [
       "61        1068934\n",
       "66        1069093\n",
       "70        1069043\n",
       "77        1068416\n",
       "80        1068994\n",
       "           ...   \n",
       "230644    1042487\n",
       "230646    1063649\n",
       "230647    1062754\n",
       "230650    1062334\n",
       "230656    1058291\n",
       "Name: id, Length: 2062, dtype: int64"
      ]
     },
     "execution_count": 8,
     "metadata": {},
     "output_type": "execute_result"
    }
   ],
   "source": [
    "useful_columns = []\n",
    "#don't understand: loan_amnt vs funded_amnt vs funded_amnt_inv\n",
    "useful_columns = ['id', 'loan_amnt']\n",
    "print(df.id.count()) #total number of rows\n",
    "\n",
    "#how many rows have loan amnt != funded_amnt?\n",
    "df[df.loan_amnt != df.funded_amnt].id"
   ]
  },
  {
   "cell_type": "code",
   "execution_count": 9,
   "metadata": {},
   "outputs": [
    {
     "data": {
      "text/plain": [
       "Series([], Name: id, dtype: int64)"
      ]
     },
     "execution_count": 9,
     "metadata": {},
     "output_type": "execute_result"
    }
   ],
   "source": [
    "df[df.loan_amnt < df.funded_amnt].id # => all loans are >= funded_amnt"
   ]
  },
  {
   "cell_type": "markdown",
   "metadata": {},
   "source": [
    "I have no idea what the difference/significance is of loan_amnt vs funded_amnt_ vd funded_amnt_inv. I will just use loan_amnt. I believe they are not useful"
   ]
  },
  {
   "cell_type": "code",
   "execution_count": 10,
   "metadata": {},
   "outputs": [],
   "source": [
    "# term may be useful for a decision tree\n",
    "# int_rate is included. Lower interest rate => better credit score => likey to pay off?\n",
    "# installment is included bc a lower payment is easier to pay => no default?\n",
    "# grade and sub_grade are not included bc it just determines the interest rate see:\n",
    "#                  https://www.lendingclub.com/foliofn/rateDetail.action\n",
    "# emp_title is the employment title of borrower, not included bc a loan can be defaulted by anyone\n",
    "# emp_length included bc long term employment => no default\n",
    "# home_ownership included and will be transfomed into a boolean (own home vs not) bc home owners have collateral\n",
    "# annual_inc (annual income) replaced by dti\n",
    "# verification_status included, will be changed to boolean (people lie about cash flow)\n",
    "# issue_d - the month the loan was funded was left out \n",
    "####### loan_status (Fully Paid vs Charged Off) is defaulted vs not########\n",
    "# \n",
    "\n",
    "useful_columns.append(['term', 'int_rate', 'installment', 'emp_length', 'home_ownership', \\\n",
    "                     'verification_status', 'loan_status'])"
   ]
  },
  {
   "cell_type": "markdown",
   "metadata": {},
   "source": [
    "Should pymnt_plan be included? payment plan => no default??"
   ]
  },
  {
   "cell_type": "code",
   "execution_count": 11,
   "metadata": {},
   "outputs": [
    {
     "name": "stdout",
     "output_type": "stream",
     "text": [
      "Out of 887379 rows, 10 have payment plan\n"
     ]
    }
   ],
   "source": [
    "# how many, out of the total entries, have a payment plan?\n",
    "print('Out of ' + str(df.id.count()) + ' rows, '  + str(df[df.pymnt_plan != 'n'].id.count()) + ' have payment plan')"
   ]
  },
  {
   "cell_type": "markdown",
   "metadata": {},
   "source": [
    "pymnt_plan data is super skewed, will not use"
   ]
  },
  {
   "cell_type": "code",
   "execution_count": 12,
   "metadata": {},
   "outputs": [],
   "source": [
    "# url takes you to the lending club website\n",
    "# desc is a description of why the loan was gotten, left out bc no (reasonable) way to turn into numbers\n",
    "# purpose similar to desc\n",
    "# title similar to desc\n",
    "# zip_code (may need to be changed to float) used bc first 3 numbers tell what region borrower is in\n",
    "# addr_state left out bc that infor is in zip_code\n",
    "# dti is debt to income ratio\n",
    "# deling_2yrs is the number of times borrower has been deliquent on any reported line of credit in 2yrs\n",
    "# earliest_cr_line used due to data type and hopefully doesnt hurt anything\n",
    "# inq_last_6mths used bc more inquiries => default\n",
    "# \n",
    "useful_columns.append(['zip_code', 'dti', 'delinq_2yrs', 'inq_last_6mths'])"
   ]
  },
  {
   "cell_type": "code",
   "execution_count": null,
   "metadata": {},
   "outputs": [],
   "source": []
  },
  {
   "cell_type": "code",
   "execution_count": 13,
   "metadata": {},
   "outputs": [
    {
     "name": "stdout",
     "output_type": "stream",
     "text": [
      "mths_since_last_delinq is at least 75% full\n"
     ]
    },
    {
     "data": {
      "text/plain": [
       "3         35.0\n",
       "4         38.0\n",
       "16        61.0\n",
       "18         8.0\n",
       "27        20.0\n",
       "          ... \n",
       "887370    69.0\n",
       "887371    65.0\n",
       "887372     9.0\n",
       "887375    26.0\n",
       "887377    22.0\n",
       "Name: mths_since_last_delinq, Length: 433067, dtype: float64"
      ]
     },
     "execution_count": 13,
     "metadata": {},
     "output_type": "execute_result"
    }
   ],
   "source": [
    "# mths_since_last_delinq included if full enough bc longer time => no default\n",
    "df['mths_since_last_delinq']\n",
    "# is the column at least 75% full?\n",
    "if((df['mths_since_last_delinq'].dropna().count()) > ((3/4) * (df['mths_since_last_delinq'].count()))):\n",
    "    print('mths_since_last_delinq is at least 75% full')\n",
    "else:\n",
    "    print('mths_since_last_delinq is not at least 75% full')\n",
    "df['mths_since_last_delinq'].dropna()"
   ]
  },
  {
   "cell_type": "code",
   "execution_count": 14,
   "metadata": {},
   "outputs": [
    {
     "name": "stdout",
     "output_type": "stream",
     "text": [
      "id                  456848\n",
      "member_id           456848\n",
      "loan_amnt           456848\n",
      "funded_amnt         456848\n",
      "funded_amnt_inv     456848\n",
      "                     ...  \n",
      "all_util              2645\n",
      "total_rev_hi_lim    386572\n",
      "inq_fi                2645\n",
      "total_cu_tl           2645\n",
      "inq_last_12m          2645\n",
      "Length: 74, dtype: int64\n",
      "887379\n"
     ]
    }
   ],
   "source": [
    "# mths_since_last_record is months since last public record. Not sure record of what so not included\n",
    "# open_acc is the number of open credit lines in borrowers name, inluded bc more => no default \n",
    "# pub_rec is the number of derogetory marks on public record included bc less marks => on time payments\n",
    "# revol_bal is the total credit revolving balance not included bc revol_util is included\n",
    "# revol_util is the amount of credit used relative to total available\n",
    "# total_acc is total credit lines on file (so including paid off ones) may be used to create new col with open_acc\n",
    "# initial_list_status is w (whole) or f(fractional) since it can be converted to binary its kept\n",
    "useful_columns.append(['open_acc', 'pub_rec', 'revol_util', 'total_acc'] )\n",
    "\n",
    "# how many initial_list_status are f?\n",
    "print(df[df['initial_list_status'] == 'f'].count())\n",
    "print(df.initial_list_status.count())\n",
    "# so about half => not super skewed"
   ]
  },
  {
   "cell_type": "code",
   "execution_count": 15,
   "metadata": {},
   "outputs": [
    {
     "data": {
      "text/plain": [
       "id                  0.288262\n",
       "member_id           0.288262\n",
       "loan_amnt           0.288262\n",
       "funded_amnt         0.288262\n",
       "funded_amnt_inv     0.288262\n",
       "                      ...   \n",
       "all_util            0.000165\n",
       "total_rev_hi_lim    0.213371\n",
       "inq_fi              0.000165\n",
       "total_cu_tl         0.000165\n",
       "inq_last_12m        0.000165\n",
       "Length: 74, dtype: float64"
      ]
     },
     "execution_count": 15,
     "metadata": {},
     "output_type": "execute_result"
    }
   ],
   "source": [
    "#out_prncp amount left\n",
    "useful_columns.append(['initial_list_status', 'out_prncp'])\n",
    "\n",
    "# how many rows have 0 in out_prncp?\n",
    "(df[df['out_prncp'] == 0].count()) / (df['out_prncp'].count())\n",
    "# so about 29% of rows that have out_prncp are 0 => enough data to keep"
   ]
  },
  {
   "cell_type": "code",
   "execution_count": 16,
   "metadata": {},
   "outputs": [
    {
     "data": {
      "text/plain": [
       "['id',\n",
       " 'loan_amnt',\n",
       " ['term',\n",
       "  'int_rate',\n",
       "  'installment',\n",
       "  'emp_length',\n",
       "  'home_ownership',\n",
       "  'verification_status',\n",
       "  'loan_status'],\n",
       " ['zip_code', 'dti', 'delinq_2yrs', 'inq_last_6mths'],\n",
       " ['open_acc', 'pub_rec', 'revol_util', 'total_acc'],\n",
       " ['initial_list_status', 'out_prncp'],\n",
       " ['total_rec_prncp',\n",
       "  'total_rec_int',\n",
       "  'total_rec_late_fee',\n",
       "  'recoveries',\n",
       "  'collection_recovery_fee',\n",
       "  'collections_12_mths_ex_med',\n",
       "  'mths_since_last_major_derog',\n",
       "  'application_type',\n",
       "  'dti_joint']]"
      ]
     },
     "execution_count": 16,
     "metadata": {},
     "output_type": "execute_result"
    }
   ],
   "source": [
    "# out_prncp_inv is amount remaining on loan by investors. I don't understand the use so not included\n",
    "# total_pymnt is payments recived to date for total amnt funded\n",
    "#total_pymnt_inv is Payments received to date for portion of total amount funded by investors\n",
    "# total_rec_prncp is used instead of total_pymnt and total_pymnt_inv\n",
    "# total_rec_int is Interest received to date\n",
    "# total_rec_late_fee is Late fees received to date\n",
    "#######4 previous columns should be combined into total money made##############\n",
    "# \n",
    "# recoveries post charge off gross recovery (amnt gained from defaulted loan) used for cost matrix\n",
    "# collection_recovery_fee post charge off collection fee used for cost matrix\n",
    "# last_pymnt_d is Last month payment was received not used \n",
    "# last_pymnt_amnt is Last total payment amount received not used\n",
    "# next_pymnt_d is Next scheduled payment date\n",
    "# last_credit_pull_d is The most recent month LC pulled credit for this loan not used\n",
    "# collections_12_mths_ex_med is Number of collections in 12 months excluding medical collections used\n",
    "# mths_since_last_major_derog is Months since most recent 90-day or worse rating used \n",
    "# policy_code is \"publicly available policy_code=1 new products not publicly available policy_code=2\" not used\n",
    "# application_type is Indicates whether the loan is an individual application or a joint application with two co-borrowers used \n",
    "                # bc more people => no default\n",
    "# annual_inc_joint is The combined self-reported annual income provided by the co-borrowers during registration (in not joint, no data) \\\n",
    "            # replaced with dti_joint\n",
    "# dti_joint is A ratio calculated using the borrower’s total monthly debt payments on the total debt obligations, \n",
    "            # excluding mortgage and the requested LC loan, divided by the borrower’s self-reported monthly income. use instead of annual_inc\n",
    "useful_columns.append(['total_rec_prncp', 'total_rec_int', 'total_rec_late_fee', 'recoveries', 'collection_recovery_fee',\\\n",
    "                       'collections_12_mths_ex_med', 'mths_since_last_major_derog', 'application_type', 'dti_joint'])\n",
    "useful_columns\n",
    "#type(useful_columns)"
   ]
  },
  {
   "cell_type": "code",
   "execution_count": 17,
   "metadata": {},
   "outputs": [],
   "source": [
    "# verification_status_joint Indicates if the co-borrowers' joint income was verified by LC,/\n",
    "            # not verified, or if the income source was verified used bc can be turned numerical\n",
    "# acc_now_delinq is The number of accounts on which the borrower is now delinquent. used bc higher => default\n",
    "# tot_coll_amt is Total collection amounts ever owed #### can maybe replace the collection columns but not sure yet\n",
    "# tot_cur_bal is Total current balance of all accounts not needed bc dti is included \n",
    "# open_acc_6m is Number of open trades in last 6 months\n",
    "# open_il_6m is Number of currently active installment trades used \n",
    "# open_il_12m is Number of installment accounts opened in past 12 months\n",
    "# open_il_24m is Number of installment accounts opened in past 24 months \n",
    "useful_columns.append(['verification_status_joint', 'acc_now_delinq'])\n"
   ]
  },
  {
   "cell_type": "code",
   "execution_count": 18,
   "metadata": {},
   "outputs": [],
   "source": [
    "def enough_num_data(col, data):\n",
    "    return str((len(df[df[col] > 0]) / len(df[col])) * 100) +'%'"
   ]
  },
  {
   "cell_type": "code",
   "execution_count": 19,
   "metadata": {},
   "outputs": [
    {
     "name": "stdout",
     "output_type": "stream",
     "text": [
      "13.089897326846813% of tot_coll_amt is nonzero\n",
      "1.4791875850115903% of open_acc_6m is nonzero\n",
      "2.147673091204547% of open_acc_6m is nonzero\n",
      "1.1906975486235305% of open_acc_12m is nonzero\n",
      "1.7907793625947874% of open_acc_24m is nonzero\n",
      "2.3436434713915926% of mths_since_rcnt_il is nonzero\n",
      "2.153871119330072% of total_bal_il is nonzero\n",
      "2.0824247587558418% of il_util is nonzero\n",
      "1.6113746212159628% of open_rv_12m is nonzero\n",
      "2.085242044267444% of open_rv_24m is nonzero\n",
      "2.3624629386090947% of max_bal_bc is nonzero\n",
      "2.406863358271945% of all_util is nonzero\n",
      "92.0481552977927% of total_rev_hi_lim is nonzero\n",
      "1.1225192392427588% of inq_fi is nonzero\n",
      "1.114968914071665% of total_cu_tl is nonzero\n"
     ]
    }
   ],
   "source": [
    "# enough data in tot_coll_amnt?\n",
    "print(enough_num_data('tot_coll_amt', df) + ' of tot_coll_amt is nonzero') # not useful anyway\n",
    "print(enough_num_data('open_acc_6m', df) + ' of open_acc_6m is nonzero')\n",
    "print(enough_num_data('open_il_6m', df) + ' of open_acc_6m is nonzero')\n",
    "print(enough_num_data('open_il_12m', df) + ' of open_acc_12m is nonzero')\n",
    "print(enough_num_data('open_il_24m', df) + ' of open_acc_24m is nonzero')\n",
    "print(enough_num_data('mths_since_rcnt_il', df) + ' of mths_since_rcnt_il is nonzero')\n",
    "print(enough_num_data('total_bal_il', df) + ' of total_bal_il is nonzero')\n",
    "print(enough_num_data('il_util', df) + ' of il_util is nonzero')\n",
    "print(enough_num_data('open_rv_12m', df) + ' of open_rv_12m is nonzero')\n",
    "print(enough_num_data('open_rv_24m', df) + ' of open_rv_24m is nonzero')\n",
    "print(enough_num_data('max_bal_bc', df) + ' of max_bal_bc is nonzero')\n",
    "print(enough_num_data('all_util', df) + ' of all_util is nonzero')\n",
    "print(enough_num_data('total_rev_hi_lim', df) + ' of total_rev_hi_lim is nonzero') ##########\n",
    "print(enough_num_data('inq_fi', df) + ' of inq_fi is nonzero')\n",
    "print(enough_num_data('total_cu_tl', df) + ' of total_cu_tl is nonzero')"
   ]
  },
  {
   "cell_type": "code",
   "execution_count": 20,
   "metadata": {},
   "outputs": [
    {
     "data": {
      "text/plain": [
       "str"
      ]
     },
     "execution_count": 20,
     "metadata": {},
     "output_type": "execute_result"
    }
   ],
   "source": [
    "type(useful_columns[0])\n",
    "#type((useful_columns[2]))"
   ]
  },
  {
   "cell_type": "code",
   "execution_count": 21,
   "metadata": {},
   "outputs": [
    {
     "data": {
      "text/plain": [
       "['id',\n",
       " 'loan_amnt',\n",
       " ['term',\n",
       "  'int_rate',\n",
       "  'installment',\n",
       "  'emp_length',\n",
       "  'home_ownership',\n",
       "  'verification_status',\n",
       "  'loan_status'],\n",
       " ['zip_code', 'dti', 'delinq_2yrs', 'inq_last_6mths'],\n",
       " ['open_acc', 'pub_rec', 'revol_util', 'total_acc'],\n",
       " ['initial_list_status', 'out_prncp'],\n",
       " ['total_rec_prncp',\n",
       "  'total_rec_int',\n",
       "  'total_rec_late_fee',\n",
       "  'recoveries',\n",
       "  'collection_recovery_fee',\n",
       "  'collections_12_mths_ex_med',\n",
       "  'mths_since_last_major_derog',\n",
       "  'application_type',\n",
       "  'dti_joint'],\n",
       " ['verification_status_joint', 'acc_now_delinq']]"
      ]
     },
     "execution_count": 21,
     "metadata": {},
     "output_type": "execute_result"
    }
   ],
   "source": [
    "useful_columns"
   ]
  },
  {
   "cell_type": "code",
   "execution_count": 22,
   "metadata": {},
   "outputs": [
    {
     "data": {
      "text/plain": [
       "74"
      ]
     },
     "execution_count": 22,
     "metadata": {},
     "output_type": "execute_result"
    }
   ],
   "source": [
    "# the only col with enough data is total_rev_hi_lim whic is Total revolving high credit/credit limit\n",
    "useful_columns.append('total_rev_hi_lim')\n",
    "used_cols = []\n",
    "for x in useful_columns:\n",
    "    if(type(x) == str):\n",
    "        used_cols.append(x)\n",
    "    else:\n",
    "        for y in x:\n",
    "             used_cols.append(y) \n",
    "used_cols\n",
    "len(df.columns)"
   ]
  },
  {
   "cell_type": "code",
   "execution_count": 23,
   "metadata": {},
   "outputs": [
    {
     "data": {
      "text/html": [
       "<div>\n",
       "<style scoped>\n",
       "    .dataframe tbody tr th:only-of-type {\n",
       "        vertical-align: middle;\n",
       "    }\n",
       "\n",
       "    .dataframe tbody tr th {\n",
       "        vertical-align: top;\n",
       "    }\n",
       "\n",
       "    .dataframe thead th {\n",
       "        text-align: right;\n",
       "    }\n",
       "</style>\n",
       "<table border=\"1\" class=\"dataframe\">\n",
       "  <thead>\n",
       "    <tr style=\"text-align: right;\">\n",
       "      <th></th>\n",
       "      <th>id</th>\n",
       "      <th>loan_amnt</th>\n",
       "      <th>term</th>\n",
       "      <th>int_rate</th>\n",
       "      <th>installment</th>\n",
       "      <th>emp_length</th>\n",
       "      <th>home_ownership</th>\n",
       "      <th>verification_status</th>\n",
       "      <th>loan_status</th>\n",
       "      <th>zip_code</th>\n",
       "      <th>...</th>\n",
       "      <th>total_rec_late_fee</th>\n",
       "      <th>recoveries</th>\n",
       "      <th>collection_recovery_fee</th>\n",
       "      <th>collections_12_mths_ex_med</th>\n",
       "      <th>mths_since_last_major_derog</th>\n",
       "      <th>application_type</th>\n",
       "      <th>dti_joint</th>\n",
       "      <th>verification_status_joint</th>\n",
       "      <th>acc_now_delinq</th>\n",
       "      <th>total_rev_hi_lim</th>\n",
       "    </tr>\n",
       "  </thead>\n",
       "  <tbody>\n",
       "    <tr>\n",
       "      <th>0</th>\n",
       "      <td>1077501</td>\n",
       "      <td>5000.0</td>\n",
       "      <td>36 months</td>\n",
       "      <td>10.65</td>\n",
       "      <td>162.87</td>\n",
       "      <td>10+ years</td>\n",
       "      <td>RENT</td>\n",
       "      <td>Verified</td>\n",
       "      <td>Fully Paid</td>\n",
       "      <td>860xx</td>\n",
       "      <td>...</td>\n",
       "      <td>0.00</td>\n",
       "      <td>0.00</td>\n",
       "      <td>0.00</td>\n",
       "      <td>0.0</td>\n",
       "      <td>NaN</td>\n",
       "      <td>INDIVIDUAL</td>\n",
       "      <td>NaN</td>\n",
       "      <td>NaN</td>\n",
       "      <td>0.0</td>\n",
       "      <td>NaN</td>\n",
       "    </tr>\n",
       "    <tr>\n",
       "      <th>1</th>\n",
       "      <td>1077430</td>\n",
       "      <td>2500.0</td>\n",
       "      <td>60 months</td>\n",
       "      <td>15.27</td>\n",
       "      <td>59.83</td>\n",
       "      <td>&lt; 1 year</td>\n",
       "      <td>RENT</td>\n",
       "      <td>Source Verified</td>\n",
       "      <td>Charged Off</td>\n",
       "      <td>309xx</td>\n",
       "      <td>...</td>\n",
       "      <td>0.00</td>\n",
       "      <td>117.08</td>\n",
       "      <td>1.11</td>\n",
       "      <td>0.0</td>\n",
       "      <td>NaN</td>\n",
       "      <td>INDIVIDUAL</td>\n",
       "      <td>NaN</td>\n",
       "      <td>NaN</td>\n",
       "      <td>0.0</td>\n",
       "      <td>NaN</td>\n",
       "    </tr>\n",
       "    <tr>\n",
       "      <th>2</th>\n",
       "      <td>1077175</td>\n",
       "      <td>2400.0</td>\n",
       "      <td>36 months</td>\n",
       "      <td>15.96</td>\n",
       "      <td>84.33</td>\n",
       "      <td>10+ years</td>\n",
       "      <td>RENT</td>\n",
       "      <td>Not Verified</td>\n",
       "      <td>Fully Paid</td>\n",
       "      <td>606xx</td>\n",
       "      <td>...</td>\n",
       "      <td>0.00</td>\n",
       "      <td>0.00</td>\n",
       "      <td>0.00</td>\n",
       "      <td>0.0</td>\n",
       "      <td>NaN</td>\n",
       "      <td>INDIVIDUAL</td>\n",
       "      <td>NaN</td>\n",
       "      <td>NaN</td>\n",
       "      <td>0.0</td>\n",
       "      <td>NaN</td>\n",
       "    </tr>\n",
       "    <tr>\n",
       "      <th>3</th>\n",
       "      <td>1076863</td>\n",
       "      <td>10000.0</td>\n",
       "      <td>36 months</td>\n",
       "      <td>13.49</td>\n",
       "      <td>339.31</td>\n",
       "      <td>10+ years</td>\n",
       "      <td>RENT</td>\n",
       "      <td>Source Verified</td>\n",
       "      <td>Fully Paid</td>\n",
       "      <td>917xx</td>\n",
       "      <td>...</td>\n",
       "      <td>16.97</td>\n",
       "      <td>0.00</td>\n",
       "      <td>0.00</td>\n",
       "      <td>0.0</td>\n",
       "      <td>NaN</td>\n",
       "      <td>INDIVIDUAL</td>\n",
       "      <td>NaN</td>\n",
       "      <td>NaN</td>\n",
       "      <td>0.0</td>\n",
       "      <td>NaN</td>\n",
       "    </tr>\n",
       "    <tr>\n",
       "      <th>4</th>\n",
       "      <td>1075358</td>\n",
       "      <td>3000.0</td>\n",
       "      <td>60 months</td>\n",
       "      <td>12.69</td>\n",
       "      <td>67.79</td>\n",
       "      <td>1 year</td>\n",
       "      <td>RENT</td>\n",
       "      <td>Source Verified</td>\n",
       "      <td>Current</td>\n",
       "      <td>972xx</td>\n",
       "      <td>...</td>\n",
       "      <td>0.00</td>\n",
       "      <td>0.00</td>\n",
       "      <td>0.00</td>\n",
       "      <td>0.0</td>\n",
       "      <td>NaN</td>\n",
       "      <td>INDIVIDUAL</td>\n",
       "      <td>NaN</td>\n",
       "      <td>NaN</td>\n",
       "      <td>0.0</td>\n",
       "      <td>NaN</td>\n",
       "    </tr>\n",
       "  </tbody>\n",
       "</table>\n",
       "<p>5 rows × 31 columns</p>\n",
       "</div>"
      ],
      "text/plain": [
       "        id  loan_amnt        term  int_rate  installment emp_length  \\\n",
       "0  1077501     5000.0   36 months     10.65       162.87  10+ years   \n",
       "1  1077430     2500.0   60 months     15.27        59.83   < 1 year   \n",
       "2  1077175     2400.0   36 months     15.96        84.33  10+ years   \n",
       "3  1076863    10000.0   36 months     13.49       339.31  10+ years   \n",
       "4  1075358     3000.0   60 months     12.69        67.79     1 year   \n",
       "\n",
       "  home_ownership verification_status  loan_status zip_code  ...  \\\n",
       "0           RENT            Verified   Fully Paid    860xx  ...   \n",
       "1           RENT     Source Verified  Charged Off    309xx  ...   \n",
       "2           RENT        Not Verified   Fully Paid    606xx  ...   \n",
       "3           RENT     Source Verified   Fully Paid    917xx  ...   \n",
       "4           RENT     Source Verified      Current    972xx  ...   \n",
       "\n",
       "   total_rec_late_fee  recoveries  collection_recovery_fee  \\\n",
       "0                0.00        0.00                     0.00   \n",
       "1                0.00      117.08                     1.11   \n",
       "2                0.00        0.00                     0.00   \n",
       "3               16.97        0.00                     0.00   \n",
       "4                0.00        0.00                     0.00   \n",
       "\n",
       "   collections_12_mths_ex_med  mths_since_last_major_derog  application_type  \\\n",
       "0                         0.0                          NaN        INDIVIDUAL   \n",
       "1                         0.0                          NaN        INDIVIDUAL   \n",
       "2                         0.0                          NaN        INDIVIDUAL   \n",
       "3                         0.0                          NaN        INDIVIDUAL   \n",
       "4                         0.0                          NaN        INDIVIDUAL   \n",
       "\n",
       "   dti_joint verification_status_joint  acc_now_delinq  total_rev_hi_lim  \n",
       "0        NaN                       NaN             0.0               NaN  \n",
       "1        NaN                       NaN             0.0               NaN  \n",
       "2        NaN                       NaN             0.0               NaN  \n",
       "3        NaN                       NaN             0.0               NaN  \n",
       "4        NaN                       NaN             0.0               NaN  \n",
       "\n",
       "[5 rows x 31 columns]"
      ]
     },
     "execution_count": 23,
     "metadata": {},
     "output_type": "execute_result"
    }
   ],
   "source": [
    "\n",
    "used_df = df[used_cols].copy()\n",
    "used_df.head(5)"
   ]
  },
  {
   "cell_type": "code",
   "execution_count": 24,
   "metadata": {},
   "outputs": [],
   "source": [
    "used_df.to_csv(\"used_df.csv\")"
   ]
  },
  {
   "cell_type": "markdown",
   "metadata": {},
   "source": [
    "# NEXT STEPS\n",
    "- make all columns numerical\n",
    "- combine/ create new columns\n",
    "- write ML program"
   ]
  },
  {
   "cell_type": "markdown",
   "metadata": {},
   "source": [
    "# Clustering"
   ]
  },
  {
   "cell_type": "code",
   "execution_count": 25,
   "metadata": {},
   "outputs": [],
   "source": [
    "import pandas as pd\n",
    "import numpy as np\n",
    "import seaborn as sns\n",
    "import matplotlib.pyplot as plt\n",
    "%matplotlib inline\n",
    "\n",
    "# Ignore useless warnings (see SciPy issue #5998)\n",
    "import warnings\n",
    "warnings.simplefilter(\"ignore\", UserWarning)\n",
    "\n",
    "from sklearn.cluster import KMeans\n",
    "from sklearn.preprocessing import MinMaxScaler"
   ]
  },
  {
   "cell_type": "code",
   "execution_count": null,
   "metadata": {},
   "outputs": [],
   "source": []
  },
  {
   "cell_type": "code",
   "execution_count": 26,
   "metadata": {},
   "outputs": [
    {
     "ename": "ValueError",
     "evalue": "could not convert string to float: ' 36 months'",
     "output_type": "error",
     "traceback": [
      "\u001b[0;31m---------------------------------------------------------------------------\u001b[0m",
      "\u001b[0;31mValueError\u001b[0m                                Traceback (most recent call last)",
      "Input \u001b[0;32mIn [26]\u001b[0m, in \u001b[0;36m<cell line: 2>\u001b[0;34m()\u001b[0m\n\u001b[1;32m      2\u001b[0m \u001b[38;5;28;01mfor\u001b[39;00m i \u001b[38;5;129;01min\u001b[39;00m \u001b[38;5;28mrange\u001b[39m(\u001b[38;5;241m1\u001b[39m, \u001b[38;5;241m20\u001b[39m): \u001b[38;5;66;03m# get the prefect number of clusters from 1 to 20\u001b[39;00m\n\u001b[1;32m      3\u001b[0m     customer_kmeans \u001b[38;5;241m=\u001b[39m KMeans(n_clusters \u001b[38;5;241m=\u001b[39m i, random_state \u001b[38;5;241m=\u001b[39m \u001b[38;5;241m42\u001b[39m)\n\u001b[0;32m----> 4\u001b[0m     \u001b[43mcustomer_kmeans\u001b[49m\u001b[38;5;241;43m.\u001b[39;49m\u001b[43mfit\u001b[49m\u001b[43m(\u001b[49m\u001b[43mused_df\u001b[49m\u001b[43m)\u001b[49m\n\u001b[1;32m      5\u001b[0m     sse\u001b[38;5;241m.\u001b[39mappend(customer_kmeans\u001b[38;5;241m.\u001b[39minertia_)\n\u001b[1;32m      7\u001b[0m plt\u001b[38;5;241m.\u001b[39mplot(\u001b[38;5;28mrange\u001b[39m(\u001b[38;5;241m1\u001b[39m, \u001b[38;5;241m20\u001b[39m), sse, marker \u001b[38;5;241m=\u001b[39m \u001b[38;5;124m'\u001b[39m\u001b[38;5;124mo\u001b[39m\u001b[38;5;124m'\u001b[39m)\n",
      "File \u001b[0;32m/usr/local/lib/python3.9/site-packages/sklearn/cluster/_kmeans.py:1140\u001b[0m, in \u001b[0;36mKMeans.fit\u001b[0;34m(self, X, y, sample_weight)\u001b[0m\n\u001b[1;32m   1114\u001b[0m \u001b[38;5;28;01mdef\u001b[39;00m \u001b[38;5;21mfit\u001b[39m(\u001b[38;5;28mself\u001b[39m, X, y\u001b[38;5;241m=\u001b[39m\u001b[38;5;28;01mNone\u001b[39;00m, sample_weight\u001b[38;5;241m=\u001b[39m\u001b[38;5;28;01mNone\u001b[39;00m):\n\u001b[1;32m   1115\u001b[0m     \u001b[38;5;124;03m\"\"\"Compute k-means clustering.\u001b[39;00m\n\u001b[1;32m   1116\u001b[0m \n\u001b[1;32m   1117\u001b[0m \u001b[38;5;124;03m    Parameters\u001b[39;00m\n\u001b[0;32m   (...)\u001b[0m\n\u001b[1;32m   1138\u001b[0m \u001b[38;5;124;03m        Fitted estimator.\u001b[39;00m\n\u001b[1;32m   1139\u001b[0m \u001b[38;5;124;03m    \"\"\"\u001b[39;00m\n\u001b[0;32m-> 1140\u001b[0m     X \u001b[38;5;241m=\u001b[39m \u001b[38;5;28;43mself\u001b[39;49m\u001b[38;5;241;43m.\u001b[39;49m\u001b[43m_validate_data\u001b[49m\u001b[43m(\u001b[49m\n\u001b[1;32m   1141\u001b[0m \u001b[43m        \u001b[49m\u001b[43mX\u001b[49m\u001b[43m,\u001b[49m\n\u001b[1;32m   1142\u001b[0m \u001b[43m        \u001b[49m\u001b[43maccept_sparse\u001b[49m\u001b[38;5;241;43m=\u001b[39;49m\u001b[38;5;124;43m\"\u001b[39;49m\u001b[38;5;124;43mcsr\u001b[39;49m\u001b[38;5;124;43m\"\u001b[39;49m\u001b[43m,\u001b[49m\n\u001b[1;32m   1143\u001b[0m \u001b[43m        \u001b[49m\u001b[43mdtype\u001b[49m\u001b[38;5;241;43m=\u001b[39;49m\u001b[43m[\u001b[49m\u001b[43mnp\u001b[49m\u001b[38;5;241;43m.\u001b[39;49m\u001b[43mfloat64\u001b[49m\u001b[43m,\u001b[49m\u001b[43m \u001b[49m\u001b[43mnp\u001b[49m\u001b[38;5;241;43m.\u001b[39;49m\u001b[43mfloat32\u001b[49m\u001b[43m]\u001b[49m\u001b[43m,\u001b[49m\n\u001b[1;32m   1144\u001b[0m \u001b[43m        \u001b[49m\u001b[43morder\u001b[49m\u001b[38;5;241;43m=\u001b[39;49m\u001b[38;5;124;43m\"\u001b[39;49m\u001b[38;5;124;43mC\u001b[39;49m\u001b[38;5;124;43m\"\u001b[39;49m\u001b[43m,\u001b[49m\n\u001b[1;32m   1145\u001b[0m \u001b[43m        \u001b[49m\u001b[43mcopy\u001b[49m\u001b[38;5;241;43m=\u001b[39;49m\u001b[38;5;28;43mself\u001b[39;49m\u001b[38;5;241;43m.\u001b[39;49m\u001b[43mcopy_x\u001b[49m\u001b[43m,\u001b[49m\n\u001b[1;32m   1146\u001b[0m \u001b[43m        \u001b[49m\u001b[43maccept_large_sparse\u001b[49m\u001b[38;5;241;43m=\u001b[39;49m\u001b[38;5;28;43;01mFalse\u001b[39;49;00m\u001b[43m,\u001b[49m\n\u001b[1;32m   1147\u001b[0m \u001b[43m    \u001b[49m\u001b[43m)\u001b[49m\n\u001b[1;32m   1149\u001b[0m     \u001b[38;5;28mself\u001b[39m\u001b[38;5;241m.\u001b[39m_check_params(X)\n\u001b[1;32m   1150\u001b[0m     random_state \u001b[38;5;241m=\u001b[39m check_random_state(\u001b[38;5;28mself\u001b[39m\u001b[38;5;241m.\u001b[39mrandom_state)\n",
      "File \u001b[0;32m/usr/local/lib/python3.9/site-packages/sklearn/base.py:561\u001b[0m, in \u001b[0;36mBaseEstimator._validate_data\u001b[0;34m(self, X, y, reset, validate_separately, **check_params)\u001b[0m\n\u001b[1;32m    559\u001b[0m     \u001b[38;5;28;01mraise\u001b[39;00m \u001b[38;5;167;01mValueError\u001b[39;00m(\u001b[38;5;124m\"\u001b[39m\u001b[38;5;124mValidation should be done on X, y or both.\u001b[39m\u001b[38;5;124m\"\u001b[39m)\n\u001b[1;32m    560\u001b[0m \u001b[38;5;28;01melif\u001b[39;00m \u001b[38;5;129;01mnot\u001b[39;00m no_val_X \u001b[38;5;129;01mand\u001b[39;00m no_val_y:\n\u001b[0;32m--> 561\u001b[0m     X \u001b[38;5;241m=\u001b[39m \u001b[43mcheck_array\u001b[49m\u001b[43m(\u001b[49m\u001b[43mX\u001b[49m\u001b[43m,\u001b[49m\u001b[43m \u001b[49m\u001b[38;5;241;43m*\u001b[39;49m\u001b[38;5;241;43m*\u001b[39;49m\u001b[43mcheck_params\u001b[49m\u001b[43m)\u001b[49m\n\u001b[1;32m    562\u001b[0m     out \u001b[38;5;241m=\u001b[39m X\n\u001b[1;32m    563\u001b[0m \u001b[38;5;28;01melif\u001b[39;00m no_val_X \u001b[38;5;129;01mand\u001b[39;00m \u001b[38;5;129;01mnot\u001b[39;00m no_val_y:\n",
      "File \u001b[0;32m/usr/local/lib/python3.9/site-packages/sklearn/utils/validation.py:738\u001b[0m, in \u001b[0;36mcheck_array\u001b[0;34m(array, accept_sparse, accept_large_sparse, dtype, order, copy, force_all_finite, ensure_2d, allow_nd, ensure_min_samples, ensure_min_features, estimator)\u001b[0m\n\u001b[1;32m    736\u001b[0m         array \u001b[38;5;241m=\u001b[39m array\u001b[38;5;241m.\u001b[39mastype(dtype, casting\u001b[38;5;241m=\u001b[39m\u001b[38;5;124m\"\u001b[39m\u001b[38;5;124munsafe\u001b[39m\u001b[38;5;124m\"\u001b[39m, copy\u001b[38;5;241m=\u001b[39m\u001b[38;5;28;01mFalse\u001b[39;00m)\n\u001b[1;32m    737\u001b[0m     \u001b[38;5;28;01melse\u001b[39;00m:\n\u001b[0;32m--> 738\u001b[0m         array \u001b[38;5;241m=\u001b[39m \u001b[43mnp\u001b[49m\u001b[38;5;241;43m.\u001b[39;49m\u001b[43masarray\u001b[49m\u001b[43m(\u001b[49m\u001b[43marray\u001b[49m\u001b[43m,\u001b[49m\u001b[43m \u001b[49m\u001b[43morder\u001b[49m\u001b[38;5;241;43m=\u001b[39;49m\u001b[43morder\u001b[49m\u001b[43m,\u001b[49m\u001b[43m \u001b[49m\u001b[43mdtype\u001b[49m\u001b[38;5;241;43m=\u001b[39;49m\u001b[43mdtype\u001b[49m\u001b[43m)\u001b[49m\n\u001b[1;32m    739\u001b[0m \u001b[38;5;28;01mexcept\u001b[39;00m ComplexWarning \u001b[38;5;28;01mas\u001b[39;00m complex_warning:\n\u001b[1;32m    740\u001b[0m     \u001b[38;5;28;01mraise\u001b[39;00m \u001b[38;5;167;01mValueError\u001b[39;00m(\n\u001b[1;32m    741\u001b[0m         \u001b[38;5;124m\"\u001b[39m\u001b[38;5;124mComplex data not supported\u001b[39m\u001b[38;5;130;01m\\n\u001b[39;00m\u001b[38;5;132;01m{}\u001b[39;00m\u001b[38;5;130;01m\\n\u001b[39;00m\u001b[38;5;124m\"\u001b[39m\u001b[38;5;241m.\u001b[39mformat(array)\n\u001b[1;32m    742\u001b[0m     ) \u001b[38;5;28;01mfrom\u001b[39;00m \u001b[38;5;21;01mcomplex_warning\u001b[39;00m\n",
      "File \u001b[0;32m/usr/local/lib/python3.9/site-packages/pandas/core/generic.py:1993\u001b[0m, in \u001b[0;36mNDFrame.__array__\u001b[0;34m(self, dtype)\u001b[0m\n\u001b[1;32m   1992\u001b[0m \u001b[38;5;28;01mdef\u001b[39;00m \u001b[38;5;21m__array__\u001b[39m(\u001b[38;5;28mself\u001b[39m, dtype: NpDtype \u001b[38;5;241m|\u001b[39m \u001b[38;5;28;01mNone\u001b[39;00m \u001b[38;5;241m=\u001b[39m \u001b[38;5;28;01mNone\u001b[39;00m) \u001b[38;5;241m-\u001b[39m\u001b[38;5;241m>\u001b[39m np\u001b[38;5;241m.\u001b[39mndarray:\n\u001b[0;32m-> 1993\u001b[0m     \u001b[38;5;28;01mreturn\u001b[39;00m \u001b[43mnp\u001b[49m\u001b[38;5;241;43m.\u001b[39;49m\u001b[43masarray\u001b[49m\u001b[43m(\u001b[49m\u001b[38;5;28;43mself\u001b[39;49m\u001b[38;5;241;43m.\u001b[39;49m\u001b[43m_values\u001b[49m\u001b[43m,\u001b[49m\u001b[43m \u001b[49m\u001b[43mdtype\u001b[49m\u001b[38;5;241;43m=\u001b[39;49m\u001b[43mdtype\u001b[49m\u001b[43m)\u001b[49m\n",
      "\u001b[0;31mValueError\u001b[0m: could not convert string to float: ' 36 months'"
     ]
    }
   ],
   "source": [
    "sse = [] # Sum of Squared Error of data points to centroid; The smaller the better.\n",
    "for i in range(1, 20): # get the prefect number of clusters from 1 to 20\n",
    "    customer_kmeans = KMeans(n_clusters = i, random_state = 42)\n",
    "    customer_kmeans.fit(used_df)\n",
    "    sse.append(customer_kmeans.inertia_)\n",
    "    \n",
    "plt.plot(range(1, 20), sse, marker = 'o')\n",
    "plt.plot(4, sse[3], color = 'r', marker = 'o') # plot red mark on k = 4\n",
    "plt.xlabel('Number of clusters')\n",
    "plt.ylabel('SSE')\n",
    "plt.show()"
   ]
  },
  {
   "cell_type": "code",
   "execution_count": null,
   "metadata": {},
   "outputs": [],
   "source": []
  }
 ],
 "metadata": {
  "kernelspec": {
   "display_name": "COMM BA Li",
   "language": "python",
   "name": "comm4522_sp22"
  },
  "language_info": {
   "codemirror_mode": {
    "name": "ipython",
    "version": 3
   },
   "file_extension": ".py",
   "mimetype": "text/x-python",
   "name": "python",
   "nbconvert_exporter": "python",
   "pygments_lexer": "ipython3",
   "version": "3.9.11"
  }
 },
 "nbformat": 4,
 "nbformat_minor": 4
}
