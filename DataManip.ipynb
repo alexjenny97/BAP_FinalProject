{
 "cells": [
  {
   "cell_type": "code",
   "execution_count": 1,
   "metadata": {},
   "outputs": [],
   "source": [
    "import pandas as pd\n",
    "import seaborn as sns\n",
    "import numpy as np\n",
    "import matplotlib.pyplot as plt\n",
    "%matplotlib inline\n",
    "import pprint\n",
    "\n",
    "import warnings\n",
    "warnings.filterwarnings(\"ignore\")"
   ]
  },
  {
   "cell_type": "code",
   "execution_count": 2,
   "metadata": {},
   "outputs": [],
   "source": [
    "df = pd.read_csv('loan.csv') #save data to a pandas dataframe"
   ]
  },
  {
   "cell_type": "code",
   "execution_count": 3,
   "metadata": {},
   "outputs": [
    {
     "data": {
      "text/plain": [
       "Index(['id', 'member_id', 'loan_amnt', 'funded_amnt', 'funded_amnt_inv',\n",
       "       'term', 'int_rate', 'installment', 'grade', 'sub_grade', 'emp_title',\n",
       "       'emp_length', 'home_ownership', 'annual_inc', 'verification_status',\n",
       "       'issue_d', 'loan_status', 'pymnt_plan', 'url', 'desc', 'purpose',\n",
       "       'title', 'zip_code', 'addr_state', 'dti', 'delinq_2yrs',\n",
       "       'earliest_cr_line', 'inq_last_6mths', 'mths_since_last_delinq',\n",
       "       'mths_since_last_record', 'open_acc', 'pub_rec', 'revol_bal',\n",
       "       'revol_util', 'total_acc', 'initial_list_status', 'out_prncp',\n",
       "       'out_prncp_inv', 'total_pymnt', 'total_pymnt_inv', 'total_rec_prncp',\n",
       "       'total_rec_int', 'total_rec_late_fee', 'recoveries',\n",
       "       'collection_recovery_fee', 'last_pymnt_d', 'last_pymnt_amnt',\n",
       "       'next_pymnt_d', 'last_credit_pull_d', 'collections_12_mths_ex_med',\n",
       "       'mths_since_last_major_derog', 'policy_code', 'application_type',\n",
       "       'annual_inc_joint', 'dti_joint', 'verification_status_joint',\n",
       "       'acc_now_delinq', 'tot_coll_amt', 'tot_cur_bal', 'open_acc_6m',\n",
       "       'open_il_6m', 'open_il_12m', 'open_il_24m', 'mths_since_rcnt_il',\n",
       "       'total_bal_il', 'il_util', 'open_rv_12m', 'open_rv_24m', 'max_bal_bc',\n",
       "       'all_util', 'total_rev_hi_lim', 'inq_fi', 'total_cu_tl',\n",
       "       'inq_last_12m'],\n",
       "      dtype='object')"
      ]
     },
     "execution_count": 3,
     "metadata": {},
     "output_type": "execute_result"
    }
   ],
   "source": [
    "df.columns"
   ]
  },
  {
   "cell_type": "markdown",
   "metadata": {},
   "source": [
    "# This chunk gets the data used for the proposal"
   ]
  },
  {
   "cell_type": "code",
   "execution_count": 4,
   "metadata": {},
   "outputs": [
    {
     "data": {
      "text/plain": [
       "1755.2010184318683"
      ]
     },
     "execution_count": 4,
     "metadata": {},
     "output_type": "execute_result"
    }
   ],
   "source": [
    "usefulColumns = ['total']\n",
    "bankIncomeColumns = ['recoveries', 'collection_recovery_fee', ]\n",
    "\n",
    "#we have loan amount and total payment, maybe use these\n",
    "# benefit of lending a loan for the bank = avg interest paid (total_rec_int) + avg late payments recived (tatal_rec_late_fee)\n",
    "benies = df['total_rec_int'].mean() + df['total_rec_late_fee'].mean()\n",
    "benies"
   ]
  },
  {
   "cell_type": "code",
   "execution_count": 5,
   "metadata": {},
   "outputs": [
    {
     "data": {
      "text/plain": [
       "7155.399435454788"
      ]
     },
     "execution_count": 5,
     "metadata": {},
     "output_type": "execute_result"
    }
   ],
   "source": [
    "# cost of defaulting on a loan = avg loan amount (loan_amnt)\n",
    "    #- avg recoveries (recoveries) + avg collection recovery fee (collection_recovery_fee)\n",
    "d = (df['loan_amnt'] - df['total_pymnt'])\n",
    "defaultCost = d.mean() - df['recoveries'].mean() + df['collection_recovery_fee'].mean()\n",
    "defaultCost"
   ]
  },
  {
   "cell_type": "markdown",
   "metadata": {},
   "source": [
    "# Cost Matrix"
   ]
  },
  {
   "cell_type": "code",
   "execution_count": 6,
   "metadata": {},
   "outputs": [],
   "source": [
    "\n",
    "#                  predicted default           predicted paid\n",
    "# real default     0                           14714\n",
    "#\n",
    "# real paid        1755                        -1755\n",
    "# wrong = 1755 + 14,714 = 16,469\n",
    "# correct = - 1755"
   ]
  },
  {
   "cell_type": "markdown",
   "metadata": {},
   "source": [
    "# This chunk will clean the data into clean_loan.csv"
   ]
  },
  {
   "cell_type": "code",
   "execution_count": 7,
   "metadata": {},
   "outputs": [
    {
     "data": {
      "text/plain": [
       "0          1077501\n",
       "1          1077430\n",
       "2          1077175\n",
       "3          1076863\n",
       "4          1075358\n",
       "            ...   \n",
       "887374    36371250\n",
       "887375    36441262\n",
       "887376    36271333\n",
       "887377    36490806\n",
       "887378    36271262\n",
       "Name: id, Length: 887379, dtype: int64"
      ]
     },
     "execution_count": 7,
     "metadata": {},
     "output_type": "execute_result"
    }
   ],
   "source": [
    "df['id']"
   ]
  },
  {
   "cell_type": "code",
   "execution_count": 8,
   "metadata": {},
   "outputs": [
    {
     "name": "stdout",
     "output_type": "stream",
     "text": [
      "887379\n"
     ]
    },
    {
     "data": {
      "text/plain": [
       "61        1068934\n",
       "66        1069093\n",
       "70        1069043\n",
       "77        1068416\n",
       "80        1068994\n",
       "           ...   \n",
       "230644    1042487\n",
       "230646    1063649\n",
       "230647    1062754\n",
       "230650    1062334\n",
       "230656    1058291\n",
       "Name: id, Length: 2062, dtype: int64"
      ]
     },
     "execution_count": 8,
     "metadata": {},
     "output_type": "execute_result"
    }
   ],
   "source": [
    "#don't understand: loan_amnt vs funded_amnt vs funded_amnt_inv\n",
    "useful_columns = ['id', 'loan_amnt']\n",
    "print(df.id.count()) #total number of rows\n",
    "\n",
    "#how many rows have loan amnt != funded_amnt?\n",
    "df[df.loan_amnt != df.funded_amnt].id"
   ]
  },
  {
   "cell_type": "code",
   "execution_count": 9,
   "metadata": {},
   "outputs": [
    {
     "data": {
      "text/plain": [
       "Series([], Name: id, dtype: int64)"
      ]
     },
     "execution_count": 9,
     "metadata": {},
     "output_type": "execute_result"
    }
   ],
   "source": [
    "df[df.loan_amnt < df.funded_amnt].id # => all loans are >= funded_amnt"
   ]
  },
  {
   "cell_type": "markdown",
   "metadata": {},
   "source": [
    "I have no idea what the difference/significance is of loan_amnt vs funded_amnt_ vd funded_amnt_inv. I will just use loan_amnt. I believe they are not useful"
   ]
  },
  {
   "cell_type": "code",
   "execution_count": 10,
   "metadata": {},
   "outputs": [],
   "source": [
    "# term may be useful for a decision tree\n",
    "# int_rate is included. Lower interest rate => better credit score => likey to pay off?\n",
    "# installment is included bc a lower payment is easier to pay => no default?\n",
    "# grade and sub_grade are not included bc it just determines the interest rate see:\n",
    "#                  https://www.lendingclub.com/foliofn/rateDetail.action\n",
    "# emp_title is the employment title of borrower, not included bc a loan can be defaulted by anyone\n",
    "# emp_length included bc long term employment => no default\n",
    "# home_ownership included and will be transfomed into a boolean (own home vs not) bc home owners have collateral\n",
    "# annual_inc (annual income) included bs more money => no default\n",
    "# verification_status included, will be changed to boolean (people lie about cash flow)\n",
    "# issue_d - the month the loan was funded was left out \n",
    "####### loan_status (Fully Paid vs Charged Off) is defaulted vs not########\n",
    "# \n",
    "\n",
    "useful_columns.append(['term', 'int_rate', 'installment', 'emp_length', 'home_ownership', 'annula_inc', \\\n",
    "                     'verification_status', 'loan_status'])"
   ]
  },
  {
   "cell_type": "markdown",
   "metadata": {},
   "source": [
    "Should pymnt_plan be included? payment plan => no default??"
   ]
  },
  {
   "cell_type": "code",
   "execution_count": 11,
   "metadata": {},
   "outputs": [
    {
     "name": "stdout",
     "output_type": "stream",
     "text": [
      "Out of 887379 rows, 10 have payment plan\n"
     ]
    }
   ],
   "source": [
    "# how many, out of the total entries, have a payment plan?\n",
    "print('Out of ' + str(df.id.count()) + ' rows, '  + str(df[df.pymnt_plan != 'n'].id.count()) + ' have payment plan')"
   ]
  },
  {
   "cell_type": "markdown",
   "metadata": {},
   "source": [
    "pymnt_plan data is super skewed, will not use"
   ]
  },
  {
   "cell_type": "code",
   "execution_count": 12,
   "metadata": {},
   "outputs": [],
   "source": [
    "# url takes you to the lending club website\n",
    "# desc is a description of why the loan was gotten, left out bc no (reasonable) way to turn into numbers\n",
    "# purpose similar to desc\n",
    "# title similar to desc\n",
    "# zip_code (may need to be changed to float) used bc first 3 numbers tell what region borrower is in\n",
    "# addr_state left out bc that infor is in zip_code\n",
    "# dti is debt to income ratio\n",
    "# deling_2yrs is the number of times borrower has been deliquent on any reported line of credit in 2yrs\n",
    "# earliest_cr_line used due to data type and hopefully doesnt hurt anything\n",
    "# inq_last_6mths used bc more inquiries => default\n",
    "# \n",
    "useful_columns.append(['zip_code', 'dti', 'delinq_2yrs', 'inq_last_6mths'])"
   ]
  },
  {
   "cell_type": "code",
   "execution_count": 14,
   "metadata": {},
   "outputs": [
    {
     "data": {
      "text/plain": [
       "Index(['id', 'member_id', 'loan_amnt', 'funded_amnt', 'funded_amnt_inv',\n",
       "       'term', 'int_rate', 'installment', 'grade', 'sub_grade', 'emp_title',\n",
       "       'emp_length', 'home_ownership', 'annual_inc', 'verification_status',\n",
       "       'issue_d', 'loan_status', 'pymnt_plan', 'url', 'desc', 'purpose',\n",
       "       'title', 'zip_code', 'addr_state', 'dti', 'delinq_2yrs',\n",
       "       'earliest_cr_line', 'inq_last_6mths', 'mths_since_last_delinq',\n",
       "       'mths_since_last_record', 'open_acc', 'pub_rec', 'revol_bal',\n",
       "       'revol_util', 'total_acc', 'initial_list_status', 'out_prncp',\n",
       "       'out_prncp_inv', 'total_pymnt', 'total_pymnt_inv', 'total_rec_prncp',\n",
       "       'total_rec_int', 'total_rec_late_fee', 'recoveries',\n",
       "       'collection_recovery_fee', 'last_pymnt_d', 'last_pymnt_amnt',\n",
       "       'next_pymnt_d', 'last_credit_pull_d', 'collections_12_mths_ex_med',\n",
       "       'mths_since_last_major_derog', 'policy_code', 'application_type',\n",
       "       'annual_inc_joint', 'dti_joint', 'verification_status_joint',\n",
       "       'acc_now_delinq', 'tot_coll_amt', 'tot_cur_bal', 'open_acc_6m',\n",
       "       'open_il_6m', 'open_il_12m', 'open_il_24m', 'mths_since_rcnt_il',\n",
       "       'total_bal_il', 'il_util', 'open_rv_12m', 'open_rv_24m', 'max_bal_bc',\n",
       "       'all_util', 'total_rev_hi_lim', 'inq_fi', 'total_cu_tl',\n",
       "       'inq_last_12m'],\n",
       "      dtype='object')"
      ]
     },
     "execution_count": 14,
     "metadata": {},
     "output_type": "execute_result"
    }
   ],
   "source": [
    "df.columns"
   ]
  },
  {
   "cell_type": "code",
   "execution_count": 19,
   "metadata": {},
   "outputs": [
    {
     "name": "stdout",
     "output_type": "stream",
     "text": [
      "mths_since_last_delinq is at least 75% full\n"
     ]
    },
    {
     "data": {
      "text/plain": [
       "3         35.0\n",
       "4         38.0\n",
       "16        61.0\n",
       "18         8.0\n",
       "27        20.0\n",
       "          ... \n",
       "887370    69.0\n",
       "887371    65.0\n",
       "887372     9.0\n",
       "887375    26.0\n",
       "887377    22.0\n",
       "Name: mths_since_last_delinq, Length: 433067, dtype: float64"
      ]
     },
     "execution_count": 19,
     "metadata": {},
     "output_type": "execute_result"
    }
   ],
   "source": [
    "# mths_since_last_delinq included if full enough bc longer time => no default\n",
    "df['mths_since_last_delinq']\n",
    "# is the column at least 75% full?\n",
    "if((df['mths_since_last_delinq'].dropna().count()) > ((3/4) * (df['mths_since_last_delinq'].count()))):\n",
    "    print('mths_since_last_delinq is at least 75% full')\n",
    "else:\n",
    "    print('mths_since_last_delinq is not at least 75% full')\n",
    "df['mths_since_last_delinq'].dropna()"
   ]
  },
  {
   "cell_type": "code",
   "execution_count": 29,
   "metadata": {},
   "outputs": [
    {
     "name": "stdout",
     "output_type": "stream",
     "text": [
      "id                  456848\n",
      "member_id           456848\n",
      "loan_amnt           456848\n",
      "funded_amnt         456848\n",
      "funded_amnt_inv     456848\n",
      "                     ...  \n",
      "all_util              2645\n",
      "total_rev_hi_lim    386572\n",
      "inq_fi                2645\n",
      "total_cu_tl           2645\n",
      "inq_last_12m          2645\n",
      "Length: 74, dtype: int64\n",
      "887379\n"
     ]
    }
   ],
   "source": [
    "# mths_since_last_record is months since last public record. Not sure record of what so not included\n",
    "# open_acc is the number of open credit lines in borrowers name, inluded bc more => no default \n",
    "# pub_rec is the number of derogetory marks on public record included bc less marks => on time payments\n",
    "# revol_bal is the total credit revolving balance not included bc revol_util is included\n",
    "# revol_util is the amount of credit used relative to total available\n",
    "# total_acc is total credit lines on file (so including paid off ones) may be used to create new col with open_acc\n",
    "# initial_list_status is w (whole) or f(fractional) since it can be converted to binary its kept\n",
    "useful_columns.append(['open_acc', 'pub_rec', 'revol_util', 'total_acc'] )\n",
    "\n",
    "# how many initial_list_status are f?\n",
    "print(df[df['initial_list_status'] == 'f'].count())\n",
    "print(df.initial_list_status.count())\n",
    "# so about half => not super skewed"
   ]
  },
  {
   "cell_type": "code",
   "execution_count": 31,
   "metadata": {},
   "outputs": [
    {
     "data": {
      "text/plain": [
       "id                  0.288262\n",
       "member_id           0.288262\n",
       "loan_amnt           0.288262\n",
       "funded_amnt         0.288262\n",
       "funded_amnt_inv     0.288262\n",
       "                      ...   \n",
       "all_util            0.000165\n",
       "total_rev_hi_lim    0.213371\n",
       "inq_fi              0.000165\n",
       "total_cu_tl         0.000165\n",
       "inq_last_12m        0.000165\n",
       "Length: 74, dtype: float64"
      ]
     },
     "execution_count": 31,
     "metadata": {},
     "output_type": "execute_result"
    }
   ],
   "source": [
    "#out_prncp amount left\n",
    "useful_columns.append(['initial_list_status', 'out_prncp'])\n",
    "\n",
    "# how many rows have 0 in out_prncp?\n",
    "(df[df['out_prncp'] == 0].count()) / (df['out_prncp'].count())\n",
    "# so about 29% of rows that have out_prncp are 0 => enough data to keep"
   ]
  },
  {
   "cell_type": "code",
   "execution_count": null,
   "metadata": {},
   "outputs": [],
   "source": [
    "# out_prncp_inv is amount remaining on loan by investors. I don't understand the use so not included\n",
    "# total_pymnt is payments recived to date for total amnt funded\n",
    "# useful_columns,append([''])"
   ]
  }
 ],
 "metadata": {
  "kernelspec": {
   "display_name": "COMM BA Li",
   "language": "python",
   "name": "comm4522_sp22"
  },
  "language_info": {
   "codemirror_mode": {
    "name": "ipython",
    "version": 3
   },
   "file_extension": ".py",
   "mimetype": "text/x-python",
   "name": "python",
   "nbconvert_exporter": "python",
   "pygments_lexer": "ipython3",
   "version": "3.9.10"
  }
 },
 "nbformat": 4,
 "nbformat_minor": 4
}
